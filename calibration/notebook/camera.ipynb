{
 "cells": [
  {
   "cell_type": "code",
   "execution_count": null,
   "source": [
    "# access jetson camera with opencv\n",
    "import cv2\n",
    "import numpy as np\n",
    "\n",
    "def gstreamer_pipeline(\n",
    "    sensor_id=0,\n",
    "    sensor_mode=3,\n",
    "    capture_width=480,\n",
    "    capture_height=320,\n",
    "    display_width=480,\n",
    "    display_height=320,\n",
    "    framerate=30,\n",
    "    flip_method=2,\n",
    "):\n",
    "    return (\n",
    "        \"nvarguscamerasrc sensor-id=%d sensor-mode=%d ! \"\n",
    "        \"video/x-raw(memory:NVMM), \"\n",
    "        \"width=(int)%d, height=(int)%d, \"\n",
    "        \"format=(string)NV12, framerate=(fraction)%d/1 ! \"\n",
    "        \"nvvidconv flip-method=%d ! \"\n",
    "        \"video/x-raw, width=(int)%d, height=(int)%d, format=(string)BGRx ! \"\n",
    "        \"videoconvert ! \"\n",
    "        \"video/x-raw, format=(string)BGR ! appsink\"\n",
    "        % (\n",
    "            sensor_id,\n",
    "            sensor_mode,\n",
    "            capture_width,\n",
    "            capture_height,\n",
    "            framerate,\n",
    "            flip_method,\n",
    "            display_width,\n",
    "            display_height,\n",
    "        )\n",
    "    )"
   ],
   "outputs": [],
   "metadata": {}
  },
  {
   "cell_type": "code",
   "execution_count": null,
   "source": [
    "# define camera left and right\n",
    "left_camera = gstreamer_pipeline(sensor_id=0)\n",
    "right_camera = gstreamer_pipeline(sensor_id=1)"
   ],
   "outputs": [],
   "metadata": {}
  },
  {
   "cell_type": "code",
   "execution_count": null,
   "source": [
    "# video capture\n",
    "left_capture = cv2.VideoCapture(left_camera, cv2.CAP_GSTREAMER)\n",
    "right_capture = cv2.VideoCapture(right_camera, cv2.CAP_GSTREAMER)"
   ],
   "outputs": [],
   "metadata": {}
  },
  {
   "cell_type": "code",
   "execution_count": null,
   "source": [
    "# loop thru camera read\n",
    "\n",
    "cv2.namedWindow(\"Calibration Camera\")\n",
    "\n",
    "# to naming image\n",
    "img_counter = 0\n",
    "\n",
    "while True:\n",
    "    _, left_frame = left_capture.read()\n",
    "    _, right_frame = right_capture.read()\n",
    "    if not _:\n",
    "        print(\"[INFO] Failed to start camera...\")\n",
    "        break\n",
    "    camera_frame = np.hstack((left_frame, right_frame))\n",
    "    cv2.imshow(\"Calibration Camera\", camera_frame)\n",
    "    \n",
    "    # for closing and capturing images\n",
    "    k = cv2.waitKey(1)\n",
    "    if k%256 == 27:\n",
    "        # ESC pressed\n",
    "        print(\"Escape hit, closing...\")\n",
    "        break\n",
    "    elif k%256 == 32:\n",
    "        # SPACE pressed\n",
    "        left_name = f\"right{img_counter:2d}.png\"\n",
    "        right_name = f\"right{img_counter:2d}.png\"\n",
    "        cv2.imwrite(left_name, left_frame)\n",
    "        cv2.imwrite(right_name, right_frame)\n",
    "        print(f\"Total images: {img_counter:2d}\")\n",
    "        img_counter += 1\n",
    "\n",
    "left_capture.release()\n",
    "right_capture.release()\n",
    "\n",
    "cv2.destroyAllWindows()"
   ],
   "outputs": [],
   "metadata": {}
  },
  {
   "cell_type": "code",
   "execution_count": null,
   "source": [
    "left_capture.release()\n",
    "right_capture.release()\n",
    "\n",
    "cv2.destroyAllWindows()"
   ],
   "outputs": [
    {
     "output_type": "error",
     "ename": "Error",
     "evalue": "Session cannot generate requests",
     "traceback": [
      "Error: Session cannot generate requests",
      "at w.executeCodeCell (/home/gamanet/.vscode-server/extensions/ms-toolsai.jupyter-2021.8.2031190714/out/client/extension.js:52:301310)",
      "at w.execute (/home/gamanet/.vscode-server/extensions/ms-toolsai.jupyter-2021.8.2031190714/out/client/extension.js:52:300703)",
      "at w.start (/home/gamanet/.vscode-server/extensions/ms-toolsai.jupyter-2021.8.2031190714/out/client/extension.js:52:296367)",
      "at async t.CellExecutionQueue.executeQueuedCells (/home/gamanet/.vscode-server/extensions/ms-toolsai.jupyter-2021.8.2031190714/out/client/extension.js:52:311160)",
      "at async t.CellExecutionQueue.start (/home/gamanet/.vscode-server/extensions/ms-toolsai.jupyter-2021.8.2031190714/out/client/extension.js:52:310700)"
     ]
    }
   ],
   "metadata": {}
  },
  {
   "cell_type": "code",
   "execution_count": null,
   "source": [
    "import cv2\n",
    "\n",
    "cam = cv2.VideoCapture(0)\n",
    "\n",
    "cv2.namedWindow(\"test\")\n",
    "\n",
    "img_counter = 0\n",
    "\n",
    "while True:\n",
    "    ret, frame = cam.read()\n",
    "    if not ret:\n",
    "        print(\"failed to grab frame\")\n",
    "        break\n",
    "    cv2.imshow(\"test\", frame)\n",
    "\n",
    "    k = cv2.waitKey(1)\n",
    "    if k%256 == 27:\n",
    "        # ESC pressed\n",
    "        print(\"Escape hit, closing...\")\n",
    "        break\n",
    "    elif k%256 == 32:\n",
    "        # SPACE pressed\n",
    "        img_name = \"opencv_frame_{}.png\".format(img_counter)\n",
    "        cv2.imwrite(img_name, frame)\n",
    "        print(\"{} written!\".format(img_name))\n",
    "        img_counter += 1\n",
    "\n",
    "cam.release()\n",
    "\n",
    "cv2.destroyAllWindows()"
   ],
   "outputs": [],
   "metadata": {}
  },
  {
   "cell_type": "code",
   "execution_count": null,
   "source": [],
   "outputs": [],
   "metadata": {}
  }
 ],
 "metadata": {
  "orig_nbformat": 4,
  "language_info": {
   "name": "python",
   "version": "3.7.10",
   "mimetype": "text/x-python",
   "codemirror_mode": {
    "name": "ipython",
    "version": 3
   },
   "pygments_lexer": "ipython3",
   "nbconvert_exporter": "python",
   "file_extension": ".py"
  },
  "kernelspec": {
   "name": "python3",
   "display_name": "Python 3.7.10 64-bit ('gamanet': conda)"
  },
  "interpreter": {
   "hash": "ed57e31c5e5745dc041f26026a55557dda25694dbf3d70d30e63c5c83c449423"
  }
 },
 "nbformat": 4,
 "nbformat_minor": 2
}